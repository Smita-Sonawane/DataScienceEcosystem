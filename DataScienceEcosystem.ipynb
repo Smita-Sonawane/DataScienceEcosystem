{
 "cells": [
  {
   "cell_type": "markdown",
   "id": "5139f056",
   "metadata": {},
   "source": [
    "# Data Science Tools and Ecosystem"
   ]
  },
  {
   "cell_type": "markdown",
   "id": "c3010814",
   "metadata": {},
   "source": [
    "In this notebook, Data Science Tools and Ecosystem are summarized"
   ]
  },
  {
   "cell_type": "markdown",
   "id": "7334eb63",
   "metadata": {},
   "source": [
    "Some of the popular languages that Data Scientists use are:\n",
    "1. Python\n",
    "2. R\n",
    "3. SQL\n",
    "4. C++\n",
    "5. Java\n",
    "6. Julia\n",
    "7. JavaScript etc.."
   ]
  },
  {
   "cell_type": "markdown",
   "id": "a89a83a6",
   "metadata": {},
   "source": [
    "Some of the commonly used libraries used by Data Scientists include:\n",
    "1. TensorFlow\n",
    "2. NumPy\n",
    "3. SciPy\n",
    "4. Pandas\n",
    "5. Matplotlib\n",
    "6. Keras\n",
    "7. scikit-learn\n",
    "8. PyTorch etc\n",
    "9. Seaborn\n",
    "10. Big DL"
   ]
  },
  {
   "cell_type": "markdown",
   "id": "df41cf9b",
   "metadata": {},
   "source": [
    "| Data Science Tools|\n",
    "|---|\n",
    "|SAS|\n",
    "|Apache Hadoop|\n",
    "|TensorFlow|"
   ]
  },
  {
   "cell_type": "markdown",
   "id": "cebb614c",
   "metadata": {},
   "source": [
    "### Below are a few examples of evaluating arithmatic expressions in Python."
   ]
  },
  {
   "cell_type": "code",
   "execution_count": 6,
   "id": "b106babc",
   "metadata": {},
   "outputs": [
    {
     "data": {
      "text/plain": [
       "17"
      ]
     },
     "execution_count": 6,
     "metadata": {},
     "output_type": "execute_result"
    }
   ],
   "source": [
    "# This is a simple arithmatic expression to multiply then add integers.\n",
    "(3*4)+5"
   ]
  },
  {
   "cell_type": "code",
   "execution_count": 7,
   "id": "1c3d7090",
   "metadata": {},
   "outputs": [
    {
     "data": {
      "text/plain": [
       "3.3333333333333335"
      ]
     },
     "execution_count": 7,
     "metadata": {},
     "output_type": "execute_result"
    }
   ],
   "source": [
    "# This will convert 200 minutes to hours by diving by 60.\n",
    "200/60"
   ]
  },
  {
   "cell_type": "markdown",
   "id": "2f5e8a67",
   "metadata": {},
   "source": [
    "__Objective__\n",
    "* List polular languages for Data Science\n",
    "* List poplular libraries for Data Science\n",
    "* List of well known Data Science Tools\n",
    "* How to provide comments in the cell "
   ]
  },
  {
   "cell_type": "markdown",
   "id": "276a81b5",
   "metadata": {},
   "source": [
    "## Author\n",
    "Smita Sonawane"
   ]
  }
 ],
 "metadata": {
  "kernelspec": {
   "display_name": "Python 3 (ipykernel)",
   "language": "python",
   "name": "python3"
  },
  "language_info": {
   "codemirror_mode": {
    "name": "ipython",
    "version": 3
   },
   "file_extension": ".py",
   "mimetype": "text/x-python",
   "name": "python",
   "nbconvert_exporter": "python",
   "pygments_lexer": "ipython3",
   "version": "3.9.13"
  }
 },
 "nbformat": 4,
 "nbformat_minor": 5
}
